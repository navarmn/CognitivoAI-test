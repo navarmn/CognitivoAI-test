{
 "cells": [
  {
   "cell_type": "code",
   "execution_count": 1,
   "metadata": {},
   "outputs": [],
   "source": [
    "from sklearn.pipeline import Pipeline\n",
    "import pandas as pd \n",
    "import numpy as np\n",
    "import os\n",
    "import sys\n",
    "sys.path.append('../src')\n",
    "\n",
    "# Source code\n",
    "from transforms import *\n",
    "import experiment\n",
    "\n",
    "# Global variables\n",
    "MODELS_FOLDER = os.path.join('..', 'models')\n",
    "PIPELINE_NAME = 'pipeline.pkl'\n",
    "DATA_FOLDER = os.path.join('..', 'data')\n",
    "DATA_FOLDER_RAW = os.path.join(DATA_FOLDER, 'raw')\n",
    "DATA_NAME_RAW = 'winequality_90.csv'\n",
    "SEED = 93849823\n",
    "ACTION = 'load' # set \"load\" to just load the results or \"train\" to train them all again\n",
    "\n",
    "# Warnings off:\n",
    "import warnings\n",
    "warnings.filterwarnings(\"ignore\", category=DeprecationWarning)\n",
    "warnings.filterwarnings(\"ignore\", category=FutureWarning)\n",
    "warnings.filterwarnings(\"ignore\", category=UserWarning)\n",
    "warnings.filterwarnings(\"ignore\", category=RuntimeWarning)\n",
    "\n",
    "# Set the random state seed for reproducibility\n",
    "np.random.seed(SEED)\n",
    "\n",
    "import joblib"
   ]
  },
  {
   "cell_type": "markdown",
   "metadata": {},
   "source": [
    "# Load dataset\n"
   ]
  },
  {
   "cell_type": "code",
   "execution_count": 2,
   "metadata": {},
   "outputs": [
    {
     "data": {
      "text/html": [
       "<div>\n",
       "<style scoped>\n",
       "    .dataframe tbody tr th:only-of-type {\n",
       "        vertical-align: middle;\n",
       "    }\n",
       "\n",
       "    .dataframe tbody tr th {\n",
       "        vertical-align: top;\n",
       "    }\n",
       "\n",
       "    .dataframe thead th {\n",
       "        text-align: right;\n",
       "    }\n",
       "</style>\n",
       "<table border=\"1\" class=\"dataframe\">\n",
       "  <thead>\n",
       "    <tr style=\"text-align: right;\">\n",
       "      <th></th>\n",
       "      <th>type</th>\n",
       "      <th>fixed acidity</th>\n",
       "      <th>volatile acidity</th>\n",
       "      <th>citric acid</th>\n",
       "      <th>residual sugar</th>\n",
       "      <th>chlorides</th>\n",
       "      <th>free sulfur dioxide</th>\n",
       "      <th>total sulfur dioxide</th>\n",
       "      <th>density</th>\n",
       "      <th>pH</th>\n",
       "      <th>sulphates</th>\n",
       "      <th>alcohol</th>\n",
       "      <th>quality</th>\n",
       "    </tr>\n",
       "  </thead>\n",
       "  <tbody>\n",
       "    <tr>\n",
       "      <th>0</th>\n",
       "      <td>Red</td>\n",
       "      <td>8.2</td>\n",
       "      <td>0.635</td>\n",
       "      <td>0.10</td>\n",
       "      <td>2.1</td>\n",
       "      <td>0.073</td>\n",
       "      <td>25.0</td>\n",
       "      <td>60.0</td>\n",
       "      <td>0.99638</td>\n",
       "      <td>3.29</td>\n",
       "      <td>0.75</td>\n",
       "      <td>10.9</td>\n",
       "      <td>6</td>\n",
       "    </tr>\n",
       "    <tr>\n",
       "      <th>1</th>\n",
       "      <td>White</td>\n",
       "      <td>5.7</td>\n",
       "      <td>0.100</td>\n",
       "      <td>0.27</td>\n",
       "      <td>1.3</td>\n",
       "      <td>0.047</td>\n",
       "      <td>21.0</td>\n",
       "      <td>100.0</td>\n",
       "      <td>0.99280</td>\n",
       "      <td>3.27</td>\n",
       "      <td>0.46</td>\n",
       "      <td>9.5</td>\n",
       "      <td>5</td>\n",
       "    </tr>\n",
       "    <tr>\n",
       "      <th>2</th>\n",
       "      <td>White</td>\n",
       "      <td>6.9</td>\n",
       "      <td>0.280</td>\n",
       "      <td>0.24</td>\n",
       "      <td>2.1</td>\n",
       "      <td>0.034</td>\n",
       "      <td>49.0</td>\n",
       "      <td>121.0</td>\n",
       "      <td>0.98882</td>\n",
       "      <td>2.98</td>\n",
       "      <td>0.43</td>\n",
       "      <td>13.2</td>\n",
       "      <td>7</td>\n",
       "    </tr>\n",
       "    <tr>\n",
       "      <th>3</th>\n",
       "      <td>White</td>\n",
       "      <td>5.8</td>\n",
       "      <td>0.360</td>\n",
       "      <td>0.38</td>\n",
       "      <td>0.9</td>\n",
       "      <td>0.037</td>\n",
       "      <td>3.0</td>\n",
       "      <td>75.0</td>\n",
       "      <td>0.99040</td>\n",
       "      <td>3.28</td>\n",
       "      <td>0.34</td>\n",
       "      <td>11.4</td>\n",
       "      <td>4</td>\n",
       "    </tr>\n",
       "    <tr>\n",
       "      <th>4</th>\n",
       "      <td>White</td>\n",
       "      <td>7.4</td>\n",
       "      <td>0.200</td>\n",
       "      <td>0.36</td>\n",
       "      <td>1.2</td>\n",
       "      <td>0.038</td>\n",
       "      <td>44.0</td>\n",
       "      <td>111.0</td>\n",
       "      <td>0.99260</td>\n",
       "      <td>3.36</td>\n",
       "      <td>0.34</td>\n",
       "      <td>9.9</td>\n",
       "      <td>6</td>\n",
       "    </tr>\n",
       "  </tbody>\n",
       "</table>\n",
       "</div>"
      ],
      "text/plain": [
       "    type  fixed acidity  volatile acidity  citric acid  residual sugar  \\\n",
       "0    Red            8.2             0.635         0.10             2.1   \n",
       "1  White            5.7             0.100         0.27             1.3   \n",
       "2  White            6.9             0.280         0.24             2.1   \n",
       "3  White            5.8             0.360         0.38             0.9   \n",
       "4  White            7.4             0.200         0.36             1.2   \n",
       "\n",
       "   chlorides  free sulfur dioxide  total sulfur dioxide  density    pH  \\\n",
       "0      0.073                 25.0                  60.0  0.99638  3.29   \n",
       "1      0.047                 21.0                 100.0  0.99280  3.27   \n",
       "2      0.034                 49.0                 121.0  0.98882  2.98   \n",
       "3      0.037                  3.0                  75.0  0.99040  3.28   \n",
       "4      0.038                 44.0                 111.0  0.99260  3.36   \n",
       "\n",
       "   sulphates alcohol  quality  \n",
       "0       0.75    10.9        6  \n",
       "1       0.46     9.5        5  \n",
       "2       0.43    13.2        7  \n",
       "3       0.34    11.4        4  \n",
       "4       0.34     9.9        6  "
      ]
     },
     "execution_count": 2,
     "metadata": {},
     "output_type": "execute_result"
    }
   ],
   "source": [
    "data = pd.read_csv(os.path.join(DATA_FOLDER_RAW, DATA_NAME_RAW))\n",
    "data.head()"
   ]
  },
  {
   "cell_type": "markdown",
   "metadata": {},
   "source": [
    "We can build the pipeplinr from scratch by using the classes under the `transforms.py`. However, we already did that and we encourage you to use the `pipeline.pkl`, which has been built using `sklearn` structured and pipeline class."
   ]
  },
  {
   "cell_type": "code",
   "execution_count": 3,
   "metadata": {},
   "outputs": [
    {
     "data": {
      "text/plain": [
       "[('cleaner', <transforms.DataCleaning at 0x7f823d1c4eb8>),\n",
       " ('remover', <transforms.RemoveFeatures at 0x7f823d1c4cf8>),\n",
       " ('scaler', <transforms.FeatureScaling at 0x7f823d1c4da0>),\n",
       " ('droper', <transforms.DropNaN at 0x7f823d1183c8>)]"
      ]
     },
     "execution_count": 3,
     "metadata": {},
     "output_type": "execute_result"
    }
   ],
   "source": [
    "pipeline = joblib.load(os.path.join(MODELS_FOLDER, PIPELINE_NAME))\n",
    "pipeline.steps"
   ]
  },
  {
   "cell_type": "markdown",
   "metadata": {},
   "source": [
    "This is how to use the pipeline"
   ]
  },
  {
   "cell_type": "code",
   "execution_count": 4,
   "metadata": {},
   "outputs": [
    {
     "data": {
      "text/plain": [
       "array([3, 2, 4, ..., 4, 3, 3])"
      ]
     },
     "execution_count": 4,
     "metadata": {},
     "output_type": "execute_result"
    }
   ],
   "source": [
    "labels = GetLables().fit_transform(data)\n",
    "labels"
   ]
  },
  {
   "cell_type": "code",
   "execution_count": 5,
   "metadata": {},
   "outputs": [
    {
     "data": {
      "text/html": [
       "<div>\n",
       "<style scoped>\n",
       "    .dataframe tbody tr th:only-of-type {\n",
       "        vertical-align: middle;\n",
       "    }\n",
       "\n",
       "    .dataframe tbody tr th {\n",
       "        vertical-align: top;\n",
       "    }\n",
       "\n",
       "    .dataframe thead th {\n",
       "        text-align: right;\n",
       "    }\n",
       "</style>\n",
       "<table border=\"1\" class=\"dataframe\">\n",
       "  <thead>\n",
       "    <tr style=\"text-align: right;\">\n",
       "      <th></th>\n",
       "      <th>type</th>\n",
       "      <th>fixed acidity</th>\n",
       "      <th>volatile acidity</th>\n",
       "      <th>citric acid</th>\n",
       "      <th>residual sugar</th>\n",
       "      <th>chlorides</th>\n",
       "      <th>free sulfur dioxide</th>\n",
       "      <th>total sulfur dioxide</th>\n",
       "      <th>density</th>\n",
       "      <th>pH</th>\n",
       "      <th>sulphates</th>\n",
       "      <th>alcohol</th>\n",
       "    </tr>\n",
       "  </thead>\n",
       "  <tbody>\n",
       "    <tr>\n",
       "      <th>0</th>\n",
       "      <td>Red</td>\n",
       "      <td>8.2</td>\n",
       "      <td>0.635</td>\n",
       "      <td>0.10</td>\n",
       "      <td>2.1</td>\n",
       "      <td>0.073</td>\n",
       "      <td>25.0</td>\n",
       "      <td>60.0</td>\n",
       "      <td>0.99638</td>\n",
       "      <td>3.29</td>\n",
       "      <td>0.75</td>\n",
       "      <td>10.9</td>\n",
       "    </tr>\n",
       "    <tr>\n",
       "      <th>1</th>\n",
       "      <td>White</td>\n",
       "      <td>5.7</td>\n",
       "      <td>0.100</td>\n",
       "      <td>0.27</td>\n",
       "      <td>1.3</td>\n",
       "      <td>0.047</td>\n",
       "      <td>21.0</td>\n",
       "      <td>100.0</td>\n",
       "      <td>0.99280</td>\n",
       "      <td>3.27</td>\n",
       "      <td>0.46</td>\n",
       "      <td>9.5</td>\n",
       "    </tr>\n",
       "    <tr>\n",
       "      <th>2</th>\n",
       "      <td>White</td>\n",
       "      <td>6.9</td>\n",
       "      <td>0.280</td>\n",
       "      <td>0.24</td>\n",
       "      <td>2.1</td>\n",
       "      <td>0.034</td>\n",
       "      <td>49.0</td>\n",
       "      <td>121.0</td>\n",
       "      <td>0.98882</td>\n",
       "      <td>2.98</td>\n",
       "      <td>0.43</td>\n",
       "      <td>13.2</td>\n",
       "    </tr>\n",
       "    <tr>\n",
       "      <th>3</th>\n",
       "      <td>White</td>\n",
       "      <td>5.8</td>\n",
       "      <td>0.360</td>\n",
       "      <td>0.38</td>\n",
       "      <td>0.9</td>\n",
       "      <td>0.037</td>\n",
       "      <td>3.0</td>\n",
       "      <td>75.0</td>\n",
       "      <td>0.99040</td>\n",
       "      <td>3.28</td>\n",
       "      <td>0.34</td>\n",
       "      <td>11.4</td>\n",
       "    </tr>\n",
       "    <tr>\n",
       "      <th>4</th>\n",
       "      <td>White</td>\n",
       "      <td>7.4</td>\n",
       "      <td>0.200</td>\n",
       "      <td>0.36</td>\n",
       "      <td>1.2</td>\n",
       "      <td>0.038</td>\n",
       "      <td>44.0</td>\n",
       "      <td>111.0</td>\n",
       "      <td>0.99260</td>\n",
       "      <td>3.36</td>\n",
       "      <td>0.34</td>\n",
       "      <td>9.9</td>\n",
       "    </tr>\n",
       "  </tbody>\n",
       "</table>\n",
       "</div>"
      ],
      "text/plain": [
       "    type  fixed acidity  volatile acidity  citric acid  residual sugar  \\\n",
       "0    Red            8.2             0.635         0.10             2.1   \n",
       "1  White            5.7             0.100         0.27             1.3   \n",
       "2  White            6.9             0.280         0.24             2.1   \n",
       "3  White            5.8             0.360         0.38             0.9   \n",
       "4  White            7.4             0.200         0.36             1.2   \n",
       "\n",
       "   chlorides  free sulfur dioxide  total sulfur dioxide  density    pH  \\\n",
       "0      0.073                 25.0                  60.0  0.99638  3.29   \n",
       "1      0.047                 21.0                 100.0  0.99280  3.27   \n",
       "2      0.034                 49.0                 121.0  0.98882  2.98   \n",
       "3      0.037                  3.0                  75.0  0.99040  3.28   \n",
       "4      0.038                 44.0                 111.0  0.99260  3.36   \n",
       "\n",
       "   sulphates alcohol  \n",
       "0       0.75    10.9  \n",
       "1       0.46     9.5  \n",
       "2       0.43    13.2  \n",
       "3       0.34    11.4  \n",
       "4       0.34     9.9  "
      ]
     },
     "execution_count": 5,
     "metadata": {},
     "output_type": "execute_result"
    }
   ],
   "source": [
    "features = data.drop('quality', axis=1)\n",
    "features.head()"
   ]
  },
  {
   "cell_type": "code",
   "execution_count": 6,
   "metadata": {},
   "outputs": [
    {
     "data": {
      "text/html": [
       "<div>\n",
       "<style scoped>\n",
       "    .dataframe tbody tr th:only-of-type {\n",
       "        vertical-align: middle;\n",
       "    }\n",
       "\n",
       "    .dataframe tbody tr th {\n",
       "        vertical-align: top;\n",
       "    }\n",
       "\n",
       "    .dataframe thead th {\n",
       "        text-align: right;\n",
       "    }\n",
       "</style>\n",
       "<table border=\"1\" class=\"dataframe\">\n",
       "  <thead>\n",
       "    <tr style=\"text-align: right;\">\n",
       "      <th></th>\n",
       "      <th>fixed acidity</th>\n",
       "      <th>volatile acidity</th>\n",
       "      <th>citric acid</th>\n",
       "      <th>residual sugar</th>\n",
       "      <th>chlorides</th>\n",
       "      <th>free sulfur dioxide</th>\n",
       "      <th>total sulfur dioxide</th>\n",
       "      <th>density</th>\n",
       "      <th>pH</th>\n",
       "      <th>sulphates</th>\n",
       "      <th>alcohol</th>\n",
       "    </tr>\n",
       "  </thead>\n",
       "  <tbody>\n",
       "    <tr>\n",
       "      <th>0</th>\n",
       "      <td>0.753317</td>\n",
       "      <td>1.794928</td>\n",
       "      <td>-1.511482</td>\n",
       "      <td>-0.701777</td>\n",
       "      <td>0.474572</td>\n",
       "      <td>-0.311825</td>\n",
       "      <td>-0.986257</td>\n",
       "      <td>-0.092347</td>\n",
       "      <td>0.440301</td>\n",
       "      <td>1.454997</td>\n",
       "      <td>0.347380</td>\n",
       "    </tr>\n",
       "    <tr>\n",
       "      <th>1</th>\n",
       "      <td>-1.168491</td>\n",
       "      <td>-1.453357</td>\n",
       "      <td>-0.336296</td>\n",
       "      <td>-0.869575</td>\n",
       "      <td>-0.258709</td>\n",
       "      <td>-0.536331</td>\n",
       "      <td>-0.279840</td>\n",
       "      <td>-0.092822</td>\n",
       "      <td>0.315747</td>\n",
       "      <td>-0.474754</td>\n",
       "      <td>-0.831347</td>\n",
       "    </tr>\n",
       "    <tr>\n",
       "      <th>2</th>\n",
       "      <td>-0.246023</td>\n",
       "      <td>-0.360476</td>\n",
       "      <td>-0.543682</td>\n",
       "      <td>-0.701777</td>\n",
       "      <td>-0.625349</td>\n",
       "      <td>1.035214</td>\n",
       "      <td>0.091029</td>\n",
       "      <td>-0.093351</td>\n",
       "      <td>-1.490295</td>\n",
       "      <td>-0.674383</td>\n",
       "      <td>2.283859</td>\n",
       "    </tr>\n",
       "    <tr>\n",
       "      <th>3</th>\n",
       "      <td>-1.091618</td>\n",
       "      <td>0.125249</td>\n",
       "      <td>0.424119</td>\n",
       "      <td>-0.953474</td>\n",
       "      <td>-0.540740</td>\n",
       "      <td>-1.546611</td>\n",
       "      <td>-0.721351</td>\n",
       "      <td>-0.093141</td>\n",
       "      <td>0.378024</td>\n",
       "      <td>-1.273271</td>\n",
       "      <td>0.768353</td>\n",
       "    </tr>\n",
       "    <tr>\n",
       "      <th>4</th>\n",
       "      <td>0.138338</td>\n",
       "      <td>-0.846201</td>\n",
       "      <td>0.285862</td>\n",
       "      <td>-0.890550</td>\n",
       "      <td>-0.512537</td>\n",
       "      <td>0.754581</td>\n",
       "      <td>-0.085575</td>\n",
       "      <td>-0.092849</td>\n",
       "      <td>0.876242</td>\n",
       "      <td>-1.273271</td>\n",
       "      <td>-0.494568</td>\n",
       "    </tr>\n",
       "  </tbody>\n",
       "</table>\n",
       "</div>"
      ],
      "text/plain": [
       "   fixed acidity  volatile acidity  citric acid  residual sugar  chlorides  \\\n",
       "0       0.753317          1.794928    -1.511482       -0.701777   0.474572   \n",
       "1      -1.168491         -1.453357    -0.336296       -0.869575  -0.258709   \n",
       "2      -0.246023         -0.360476    -0.543682       -0.701777  -0.625349   \n",
       "3      -1.091618          0.125249     0.424119       -0.953474  -0.540740   \n",
       "4       0.138338         -0.846201     0.285862       -0.890550  -0.512537   \n",
       "\n",
       "   free sulfur dioxide  total sulfur dioxide   density        pH  sulphates  \\\n",
       "0            -0.311825             -0.986257 -0.092347  0.440301   1.454997   \n",
       "1            -0.536331             -0.279840 -0.092822  0.315747  -0.474754   \n",
       "2             1.035214              0.091029 -0.093351 -1.490295  -0.674383   \n",
       "3            -1.546611             -0.721351 -0.093141  0.378024  -1.273271   \n",
       "4             0.754581             -0.085575 -0.092849  0.876242  -1.273271   \n",
       "\n",
       "    alcohol  \n",
       "0  0.347380  \n",
       "1 -0.831347  \n",
       "2  2.283859  \n",
       "3  0.768353  \n",
       "4 -0.494568  "
      ]
     },
     "execution_count": 6,
     "metadata": {},
     "output_type": "execute_result"
    }
   ],
   "source": [
    "features_transformed = pipeline.fit_transform(features)\n",
    "features_transformed.head()"
   ]
  },
  {
   "cell_type": "code",
   "execution_count": 7,
   "metadata": {},
   "outputs": [
    {
     "data": {
      "text/plain": [
       "array([   0,    1,    2, ..., 5844, 5845, 5846])"
      ]
     },
     "execution_count": 7,
     "metadata": {},
     "output_type": "execute_result"
    }
   ],
   "source": [
    "features_transformed.index.values"
   ]
  },
  {
   "cell_type": "code",
   "execution_count": 8,
   "metadata": {},
   "outputs": [
    {
     "data": {
      "text/plain": [
       "(5813,)"
      ]
     },
     "execution_count": 8,
     "metadata": {},
     "output_type": "execute_result"
    }
   ],
   "source": [
    "labels = labels[features_transformed.index.values]\n",
    "labels.shape"
   ]
  },
  {
   "cell_type": "code",
   "execution_count": 9,
   "metadata": {},
   "outputs": [],
   "source": [
    "df_labels = pd.DataFrame(labels, columns=['labels'])"
   ]
  },
  {
   "cell_type": "code",
   "execution_count": 10,
   "metadata": {},
   "outputs": [
    {
     "data": {
      "text/plain": [
       "labels  labels\n",
       "0       0           27\n",
       "1       1          194\n",
       "2       2         1918\n",
       "3       3         2533\n",
       "4       4          962\n",
       "5       5          174\n",
       "6       6            5\n",
       "Name: labels, dtype: int64"
      ]
     },
     "execution_count": 10,
     "metadata": {},
     "output_type": "execute_result"
    }
   ],
   "source": [
    "df_labels.groupby('labels').labels.value_counts()"
   ]
  },
  {
   "cell_type": "markdown",
   "metadata": {},
   "source": [
    "We have a problem: the classe 6, which is the quality #9 has only 5 sample. We proposed to this one sample 5, which is quality #8"
   ]
  },
  {
   "cell_type": "code",
   "execution_count": 11,
   "metadata": {},
   "outputs": [],
   "source": [
    "labels[labels == 6] = 5"
   ]
  },
  {
   "cell_type": "code",
   "execution_count": 12,
   "metadata": {},
   "outputs": [
    {
     "data": {
      "text/plain": [
       "labels  labels\n",
       "0       0           27\n",
       "1       1          194\n",
       "2       2         1918\n",
       "3       3         2533\n",
       "4       4          962\n",
       "5       5          179\n",
       "Name: labels, dtype: int64"
      ]
     },
     "execution_count": 12,
     "metadata": {},
     "output_type": "execute_result"
    }
   ],
   "source": [
    "df_labels = pd.DataFrame(labels, columns=['labels'])\n",
    "df_labels.groupby('labels').labels.value_counts()"
   ]
  },
  {
   "cell_type": "markdown",
   "metadata": {},
   "source": [
    "Now we are all set!"
   ]
  },
  {
   "cell_type": "markdown",
   "metadata": {},
   "source": [
    "# Experiment 01:\n",
    "- All classifiers\n"
   ]
  },
  {
   "cell_type": "code",
   "execution_count": 13,
   "metadata": {},
   "outputs": [],
   "source": [
    "def do_experiment(results_name, folder, features, labels, n_classes=6, action='load', classifiers={}, kfold=5):\n",
    "    print(action)\n",
    "    if action=='train':\n",
    "        print(folder)\n",
    "        # Train all clf\n",
    "        ### Stratified cross-validation for model selection will be used.\n",
    "\n",
    "        clf_outputs = experiment.run_classifiers(features, labels, classifiers, kfolds)\n",
    "\n",
    "        ## Performance assessment\n",
    "        results = {}\n",
    "        results['train'] = experiment.results_clf(n_classes, clf_outputs['train']['true'], clf_outputs['train']['pred'])\n",
    "        results['test'] = experiment.results_clf(n_classes, clf_outputs['test']['true'], clf_outputs['test']['pred'])\n",
    "\n",
    "        ## Save results\n",
    "        print(folder)\n",
    "        experiment.export_results(results['test'], 'test', foldertree=folder)\n",
    "        experiment.export_results(results['train'], 'train', foldertree=folder)\n",
    "\n",
    "        name = os.path.join(folder, results_name)\n",
    "        joblib.dump(results, name)\n",
    "        \n",
    "        return results\n",
    "    \n",
    "    elif action == 'load':\n",
    "        name = os.path.join(folder, results_name)\n",
    "        return joblib.load('{}'.format(name))"
   ]
  },
  {
   "cell_type": "code",
   "execution_count": 14,
   "metadata": {},
   "outputs": [],
   "source": [
    "# Definitions\n",
    "results_obj_name = 'results-01-clf-all.pkl'\n",
    "results_folder = os.path.join('Results-analyses-3', '01-all-clf')\n",
    "kfolds = 10\n",
    "n_classes = np.unique(labels).shape[0]\n",
    "\n",
    "# Define all classifiers:\n",
    "from sklearn.neighbors import KNeighborsClassifier\n",
    "from sklearn.ensemble import RandomForestClassifier\n",
    "from sklearn.naive_bayes import GaussianNB\n",
    "from sklearn.discriminant_analysis import LinearDiscriminantAnalysis\n",
    "from sklearn.discriminant_analysis import QuadraticDiscriminantAnalysis\n",
    "from sklearn.linear_model import Perceptron\n",
    "from sklearn.linear_model import SGDClassifier\n",
    "from sklearn.neural_network import MLPClassifier\n",
    "from sklearn.svm import SVC\n",
    "\n",
    "from sklearn.ensemble import VotingClassifier\n",
    "\n",
    "# No hyperparameter tunning for now. They default setting will be used.\n",
    "\n",
    "knn_clf = KNeighborsClassifier()\n",
    "random_forest_clf = RandomForestClassifier()\n",
    "naive_bayes_clf = GaussianNB()\n",
    "gaussian_linear_clf = LinearDiscriminantAnalysis()\n",
    "gaussian_quadratic_clf = QuadraticDiscriminantAnalysis()\n",
    "perceptron_clf = Perceptron()\n",
    "sgd_clf = SGDClassifier()\n",
    "\n",
    "# MLP:\n",
    "mlp_clf = MLPClassifier(solver='adam', learning_rate='adaptive', \n",
    "                        max_iter=1300, learning_rate_init=5e-04, tol=1e-4)\n",
    "\n",
    "mlp_clf_2 = MLPClassifier(solver='lbfgs', learning_rate='adaptive', \n",
    "                        max_iter=1300, learning_rate_init=5e-04, tol=1e-4)\n",
    "\n",
    "eclf = VotingClassifier(estimators=[('mlp', mlp_clf), ('mlp-2', mlp_clf_2), ('naive-bayes', naive_bayes_clf)], \n",
    "                        voting='soft', weights=[0.75, 0.75, 1.4])\n",
    "\n",
    "# Place them all in a dict\n",
    "\n",
    "classifiers = {'KNN': knn_clf, 'RF': random_forest_clf, 'Naive_bayes': naive_bayes_clf,\n",
    "               'Gaussian_linear': gaussian_linear_clf, 'Gaussian_quadratic': gaussian_quadratic_clf,\n",
    "               'Perceptron': perceptron_clf, 'SGDClassifier': sgd_clf,\n",
    "               'MLP': mlp_clf,\n",
    "               'Ensemble': eclf}"
   ]
  },
  {
   "cell_type": "code",
   "execution_count": 15,
   "metadata": {},
   "outputs": [
    {
     "name": "stdout",
     "output_type": "stream",
     "text": [
      "load\n"
     ]
    }
   ],
   "source": [
    "results_exp_01 = do_experiment(results_obj_name, results_folder, features=features_transformed.values, labels=labels.ravel(), \n",
    "                               classifiers=classifiers, action='load', n_classes=n_classes, kfold=10)"
   ]
  },
  {
   "cell_type": "markdown",
   "metadata": {},
   "source": [
    "## The results from this part:"
   ]
  },
  {
   "cell_type": "code",
   "execution_count": 16,
   "metadata": {},
   "outputs": [],
   "source": [
    "import seaborn as sns\n",
    "import matplotlib.pyplot as plt"
   ]
  },
  {
   "cell_type": "code",
   "execution_count": 17,
   "metadata": {},
   "outputs": [],
   "source": [
    "def see_results(results):\n",
    "    result_df = pd.DataFrame(columns=['acc', 'recall', 'precision'], index=results['test'].keys())\n",
    "    \n",
    "    for clf in results['test'].keys():\n",
    "        result_df.loc[clf]['acc'] = results['test'][clf]['average']['acc']\n",
    "        result_df.loc[clf]['recall'] = results['test'][clf]['average']['recall']\n",
    "        result_df.loc[clf]['precision'] = results['test'][clf]['average']['precision']\n",
    "    \n",
    "    return result_df"
   ]
  },
  {
   "cell_type": "code",
   "execution_count": 18,
   "metadata": {},
   "outputs": [
    {
     "data": {
      "text/html": [
       "<div>\n",
       "<style scoped>\n",
       "    .dataframe tbody tr th:only-of-type {\n",
       "        vertical-align: middle;\n",
       "    }\n",
       "\n",
       "    .dataframe tbody tr th {\n",
       "        vertical-align: top;\n",
       "    }\n",
       "\n",
       "    .dataframe thead th {\n",
       "        text-align: right;\n",
       "    }\n",
       "</style>\n",
       "<table border=\"1\" class=\"dataframe\">\n",
       "  <thead>\n",
       "    <tr style=\"text-align: right;\">\n",
       "      <th></th>\n",
       "      <th>acc</th>\n",
       "      <th>recall</th>\n",
       "      <th>precision</th>\n",
       "    </tr>\n",
       "  </thead>\n",
       "  <tbody>\n",
       "    <tr>\n",
       "      <th>KNN</th>\n",
       "      <td>0.557033</td>\n",
       "      <td>0.557033</td>\n",
       "      <td>0.544945</td>\n",
       "    </tr>\n",
       "    <tr>\n",
       "      <th>RF</th>\n",
       "      <td>0.666574</td>\n",
       "      <td>0.666574</td>\n",
       "      <td>0.662945</td>\n",
       "    </tr>\n",
       "    <tr>\n",
       "      <th>Naive_bayes</th>\n",
       "      <td>0.139001</td>\n",
       "      <td>0.139001</td>\n",
       "      <td>0.428307</td>\n",
       "    </tr>\n",
       "    <tr>\n",
       "      <th>Gaussian_linear</th>\n",
       "      <td>0.53604</td>\n",
       "      <td>0.53604</td>\n",
       "      <td>0.500527</td>\n",
       "    </tr>\n",
       "    <tr>\n",
       "      <th>Gaussian_quadratic</th>\n",
       "      <td>0.162248</td>\n",
       "      <td>0.162248</td>\n",
       "      <td>0.458032</td>\n",
       "    </tr>\n",
       "    <tr>\n",
       "      <th>Perceptron</th>\n",
       "      <td>0.411208</td>\n",
       "      <td>0.411208</td>\n",
       "      <td>0.390083</td>\n",
       "    </tr>\n",
       "    <tr>\n",
       "      <th>SGDClassifier</th>\n",
       "      <td>0.45161</td>\n",
       "      <td>0.45161</td>\n",
       "      <td>0.429569</td>\n",
       "    </tr>\n",
       "    <tr>\n",
       "      <th>MLP</th>\n",
       "      <td>0.570258</td>\n",
       "      <td>0.570258</td>\n",
       "      <td>0.557542</td>\n",
       "    </tr>\n",
       "    <tr>\n",
       "      <th>Ensemble</th>\n",
       "      <td>0.478327</td>\n",
       "      <td>0.478327</td>\n",
       "      <td>0.571332</td>\n",
       "    </tr>\n",
       "  </tbody>\n",
       "</table>\n",
       "</div>"
      ],
      "text/plain": [
       "                         acc    recall precision\n",
       "KNN                 0.557033  0.557033  0.544945\n",
       "RF                  0.666574  0.666574  0.662945\n",
       "Naive_bayes         0.139001  0.139001  0.428307\n",
       "Gaussian_linear      0.53604   0.53604  0.500527\n",
       "Gaussian_quadratic  0.162248  0.162248  0.458032\n",
       "Perceptron          0.411208  0.411208  0.390083\n",
       "SGDClassifier        0.45161   0.45161  0.429569\n",
       "MLP                 0.570258  0.570258  0.557542\n",
       "Ensemble            0.478327  0.478327  0.571332"
      ]
     },
     "execution_count": 18,
     "metadata": {},
     "output_type": "execute_result"
    }
   ],
   "source": [
    "result_df_clf_all = see_results(results_exp_01)\n",
    "result_df_clf_all"
   ]
  },
  {
   "cell_type": "code",
   "execution_count": 19,
   "metadata": {},
   "outputs": [
    {
     "data": {
      "image/png": "[encoded data removed]",
      "text/plain": [
       "<Figure size 1080x432 with 1 Axes>"
      ]
     },
     "metadata": {
      "needs_background": "light"
     },
     "output_type": "display_data"
    }
   ],
   "source": [
    "ax, fig = plt.subplots(figsize=(15,6))\n",
    "sns.barplot(y='acc', x=result_df_clf_all.index, data=result_df_clf_all)\n",
    "# plt.ylim(0.967, 0.99)\n",
    "plt.title('Average ACC (%)')\n",
    "plt.show()"
   ]
  },
  {
   "cell_type": "markdown",
   "metadata": {},
   "source": [
    "The accuracy metric is not a good fit for this type of proble, since the classes are unbalanced. Let's go over other metrics"
   ]
  },
  {
   "cell_type": "code",
   "execution_count": 20,
   "metadata": {},
   "outputs": [
    {
     "data": {
      "image/png": "[encoded data removed]",
      "text/plain": [
       "<Figure size 1080x720 with 2 Axes>"
      ]
     },
     "metadata": {
      "needs_background": "light"
     },
     "output_type": "display_data"
    }
   ],
   "source": [
    "fig, axes = plt.subplots(2,1,figsize=(15,10))\n",
    "sns.barplot(y='recall', x=result_df_clf_all.index, data=result_df_clf_all, ax = axes[0])\n",
    "plt.title('Average Recall (%)')\n",
    "\n",
    "sns.barplot(y='precision', x=result_df_clf_all.index, data=result_df_clf_all, ax = axes[1])\n",
    "plt.title('Average precision (%)')\n",
    "\n",
    "plt.show()"
   ]
  },
  {
   "cell_type": "markdown",
   "metadata": {},
   "source": [
    "Setting the baseline to 0.967 we can exclude all model in which reached accuracies below. Therefore, only the Random Forest (RF) and MLP performed properly. Having the R outperforming in about 1% in average."
   ]
  },
  {
   "cell_type": "markdown",
   "metadata": {},
   "source": [
    "# Experiment 02 - Test another models:\n",
    "- Bagged classifiers with AdaBoost algorithm;\n",
    "- No feature selection employed;"
   ]
  },
  {
   "cell_type": "code",
   "execution_count": 21,
   "metadata": {},
   "outputs": [],
   "source": [
    "from sklearn.ensemble import AdaBoostClassifier\n",
    "from sklearn.tree import DecisionTreeClassifier\n",
    "\n",
    "# Definitions\n",
    "results_obj_name = 'results-02-clf-adaboost.pkl'\n",
    "results_folder = os.path.join('Results-analyses-3', '02-Adaboost')\n",
    "kfolds = 10\n",
    "n_classes = np.unique(labels).shape[0]\n",
    "\n",
    "# CLF definitions\n",
    "bdt = AdaBoostClassifier(DecisionTreeClassifier(max_depth=1),\n",
    "                         algorithm=\"SAMME\",\n",
    "                         n_estimators=200)\n",
    "\n",
    "bnn = AdaBoostClassifier(SGDClassifier(),\n",
    "                         algorithm=\"SAMME\",\n",
    "                         n_estimators=50)\n",
    "\n",
    "classifiers_adabost = {'BDT': bdt, 'BNN': bnn}"
   ]
  },
  {
   "cell_type": "code",
   "execution_count": 22,
   "metadata": {},
   "outputs": [
    {
     "data": {
      "text/plain": [
       "array([0, 1, 2, 3, 4, 5])"
      ]
     },
     "execution_count": 22,
     "metadata": {},
     "output_type": "execute_result"
    }
   ],
   "source": [
    "np.unique(labels)"
   ]
  },
  {
   "cell_type": "code",
   "execution_count": 23,
   "metadata": {},
   "outputs": [
    {
     "name": "stdout",
     "output_type": "stream",
     "text": [
      "load\n"
     ]
    }
   ],
   "source": [
    "results_exp_02 = do_experiment(results_obj_name, results_folder, features=features_transformed.values, labels=labels.ravel(), \n",
    "                               classifiers=classifiers_adabost, n_classes=n_classes, action='load')"
   ]
  },
  {
   "cell_type": "code",
   "execution_count": 24,
   "metadata": {},
   "outputs": [
    {
     "data": {
      "text/html": [
       "<div>\n",
       "<style scoped>\n",
       "    .dataframe tbody tr th:only-of-type {\n",
       "        vertical-align: middle;\n",
       "    }\n",
       "\n",
       "    .dataframe tbody tr th {\n",
       "        vertical-align: top;\n",
       "    }\n",
       "\n",
       "    .dataframe thead th {\n",
       "        text-align: right;\n",
       "    }\n",
       "</style>\n",
       "<table border=\"1\" class=\"dataframe\">\n",
       "  <thead>\n",
       "    <tr style=\"text-align: right;\">\n",
       "      <th></th>\n",
       "      <th>acc</th>\n",
       "      <th>recall</th>\n",
       "      <th>precision</th>\n",
       "    </tr>\n",
       "  </thead>\n",
       "  <tbody>\n",
       "    <tr>\n",
       "      <th>BDT</th>\n",
       "      <td>0.50782</td>\n",
       "      <td>0.50782</td>\n",
       "      <td>0.470173</td>\n",
       "    </tr>\n",
       "    <tr>\n",
       "      <th>BNN</th>\n",
       "      <td>0.449344</td>\n",
       "      <td>0.449344</td>\n",
       "      <td>0.445621</td>\n",
       "    </tr>\n",
       "  </tbody>\n",
       "</table>\n",
       "</div>"
      ],
      "text/plain": [
       "          acc    recall precision\n",
       "BDT   0.50782   0.50782  0.470173\n",
       "BNN  0.449344  0.449344  0.445621"
      ]
     },
     "execution_count": 24,
     "metadata": {},
     "output_type": "execute_result"
    }
   ],
   "source": [
    "result_df_bagged = see_results(results_exp_02)\n",
    "result_df_bagged"
   ]
  },
  {
   "cell_type": "code",
   "execution_count": 25,
   "metadata": {},
   "outputs": [
    {
     "data": {
      "image/png": "[encoded data removed]",
      "text/plain": [
       "<Figure size 1080x432 with 1 Axes>"
      ]
     },
     "metadata": {
      "needs_background": "light"
     },
     "output_type": "display_data"
    }
   ],
   "source": [
    "ax, fig = plt.subplots(figsize=(15,6))\n",
    "sns.barplot(y='acc', x=result_df_bagged.index, data=result_df_bagged)\n",
    "plt.title('Average ACC (%)')\n",
    "plt.show()"
   ]
  },
  {
   "cell_type": "code",
   "execution_count": 26,
   "metadata": {},
   "outputs": [
    {
     "data": {
      "image/png": "[encoded data removed]",
      "text/plain": [
       "<Figure size 1080x720 with 2 Axes>"
      ]
     },
     "metadata": {
      "needs_background": "light"
     },
     "output_type": "display_data"
    }
   ],
   "source": [
    "fig, axes = plt.subplots(2,1,figsize=(15,10))\n",
    "sns.barplot(y='recall', x=result_df_bagged.index, data=result_df_bagged, ax = axes[0])\n",
    "plt.title('Average Recall (%)')\n",
    "\n",
    "sns.barplot(y='precision', x=result_df_bagged.index, data=result_df_bagged, ax = axes[1])\n",
    "plt.title('Average precision (%)')\n",
    "\n",
    "plt.show()"
   ]
  },
  {
   "cell_type": "markdown",
   "metadata": {},
   "source": [
    "The bagged of decisions tree performed almost as the RF, so there wont be necessary to use them from now. The bagged of Perceptrons will not be used."
   ]
  },
  {
   "cell_type": "markdown",
   "metadata": {},
   "source": [
    "# Experiment 03:\n",
    "- The \"best\" classifiers up until now (RF and  MLP)\n",
    "- Feature selection of the most important features: `volatile acidity`, `alcohol` and `chlorides`"
   ]
  },
  {
   "cell_type": "code",
   "execution_count": 27,
   "metadata": {},
   "outputs": [],
   "source": [
    "from sklearn.pipeline import Pipeline\n",
    "\n",
    "pipeline_selector = Pipeline([('cleaner', DataCleaning()),\n",
    "                     ('selector', FeatureSelection(features=['volatile acidity', 'alcohol', 'chlorides'])),\n",
    "                     ('scaler', FeatureScaling()),\n",
    "                     ('droper', DropNaN())])"
   ]
  },
  {
   "cell_type": "code",
   "execution_count": 28,
   "metadata": {},
   "outputs": [
    {
     "data": {
      "text/html": [
       "<div>\n",
       "<style scoped>\n",
       "    .dataframe tbody tr th:only-of-type {\n",
       "        vertical-align: middle;\n",
       "    }\n",
       "\n",
       "    .dataframe tbody tr th {\n",
       "        vertical-align: top;\n",
       "    }\n",
       "\n",
       "    .dataframe thead th {\n",
       "        text-align: right;\n",
       "    }\n",
       "</style>\n",
       "<table border=\"1\" class=\"dataframe\">\n",
       "  <thead>\n",
       "    <tr style=\"text-align: right;\">\n",
       "      <th></th>\n",
       "      <th>volatile acidity</th>\n",
       "      <th>alcohol</th>\n",
       "      <th>chlorides</th>\n",
       "    </tr>\n",
       "  </thead>\n",
       "  <tbody>\n",
       "    <tr>\n",
       "      <th>0</th>\n",
       "      <td>1.794928</td>\n",
       "      <td>0.347380</td>\n",
       "      <td>0.474572</td>\n",
       "    </tr>\n",
       "    <tr>\n",
       "      <th>1</th>\n",
       "      <td>-1.453357</td>\n",
       "      <td>-0.831347</td>\n",
       "      <td>-0.258709</td>\n",
       "    </tr>\n",
       "    <tr>\n",
       "      <th>2</th>\n",
       "      <td>-0.360476</td>\n",
       "      <td>2.283859</td>\n",
       "      <td>-0.625349</td>\n",
       "    </tr>\n",
       "    <tr>\n",
       "      <th>3</th>\n",
       "      <td>0.125249</td>\n",
       "      <td>0.768353</td>\n",
       "      <td>-0.540740</td>\n",
       "    </tr>\n",
       "    <tr>\n",
       "      <th>4</th>\n",
       "      <td>-0.846201</td>\n",
       "      <td>-0.494568</td>\n",
       "      <td>-0.512537</td>\n",
       "    </tr>\n",
       "  </tbody>\n",
       "</table>\n",
       "</div>"
      ],
      "text/plain": [
       "   volatile acidity   alcohol  chlorides\n",
       "0          1.794928  0.347380   0.474572\n",
       "1         -1.453357 -0.831347  -0.258709\n",
       "2         -0.360476  2.283859  -0.625349\n",
       "3          0.125249  0.768353  -0.540740\n",
       "4         -0.846201 -0.494568  -0.512537"
      ]
     },
     "execution_count": 28,
     "metadata": {},
     "output_type": "execute_result"
    }
   ],
   "source": [
    "features_transformed_02 = pipeline_selector.fit_transform(features)\n",
    "features_transformed_02.head()"
   ]
  },
  {
   "cell_type": "code",
   "execution_count": 29,
   "metadata": {},
   "outputs": [
    {
     "data": {
      "text/plain": [
       "array([3, 2, 4, ..., 4, 3, 3])"
      ]
     },
     "execution_count": 29,
     "metadata": {},
     "output_type": "execute_result"
    }
   ],
   "source": [
    "labels = GetLables().fit_transform(data)\n",
    "labels"
   ]
  },
  {
   "cell_type": "code",
   "execution_count": 30,
   "metadata": {},
   "outputs": [
    {
     "data": {
      "text/plain": [
       "(5813,)"
      ]
     },
     "execution_count": 30,
     "metadata": {},
     "output_type": "execute_result"
    }
   ],
   "source": [
    "labels = labels[features_transformed_02.index.values]\n",
    "labels.shape"
   ]
  },
  {
   "cell_type": "code",
   "execution_count": 31,
   "metadata": {},
   "outputs": [],
   "source": [
    "labels[labels == 6] = 5"
   ]
  },
  {
   "cell_type": "markdown",
   "metadata": {},
   "source": [
    "Only 3 features:"
   ]
  },
  {
   "cell_type": "code",
   "execution_count": 32,
   "metadata": {},
   "outputs": [],
   "source": [
    "# Definitions\n",
    "results_obj_name = 'results-03-clf-feat_selected.pkl'\n",
    "results_folder = os.path.join('Results-analyses-3', '03-Feature-selected')\n",
    "kfolds = 10\n",
    "n_classes = np.unique(labels).shape[0]\n",
    "\n",
    "# CLF definitions as  the same above in the Expr 01\n",
    "classifiers_feat_selected = {'MLP': mlp_clf, 'RF': random_forest_clf}"
   ]
  },
  {
   "cell_type": "code",
   "execution_count": 33,
   "metadata": {},
   "outputs": [
    {
     "name": "stdout",
     "output_type": "stream",
     "text": [
      "load\n"
     ]
    }
   ],
   "source": [
    "results_exp_03 = do_experiment(results_obj_name, results_folder, features=features_transformed_02.values, labels=labels.ravel(), \n",
    "                               classifiers=classifiers_feat_selected, n_classes=n_classes, action='load')"
   ]
  },
  {
   "cell_type": "code",
   "execution_count": 34,
   "metadata": {},
   "outputs": [
    {
     "data": {
      "text/html": [
       "<div>\n",
       "<style scoped>\n",
       "    .dataframe tbody tr th:only-of-type {\n",
       "        vertical-align: middle;\n",
       "    }\n",
       "\n",
       "    .dataframe tbody tr th {\n",
       "        vertical-align: top;\n",
       "    }\n",
       "\n",
       "    .dataframe thead th {\n",
       "        text-align: right;\n",
       "    }\n",
       "</style>\n",
       "<table border=\"1\" class=\"dataframe\">\n",
       "  <thead>\n",
       "    <tr style=\"text-align: right;\">\n",
       "      <th></th>\n",
       "      <th>acc</th>\n",
       "      <th>recall</th>\n",
       "      <th>precision</th>\n",
       "    </tr>\n",
       "  </thead>\n",
       "  <tbody>\n",
       "    <tr>\n",
       "      <th>MLP</th>\n",
       "      <td>0.543096</td>\n",
       "      <td>0.543096</td>\n",
       "      <td>0.516676</td>\n",
       "    </tr>\n",
       "    <tr>\n",
       "      <th>RF</th>\n",
       "      <td>0.609643</td>\n",
       "      <td>0.609643</td>\n",
       "      <td>0.59897</td>\n",
       "    </tr>\n",
       "  </tbody>\n",
       "</table>\n",
       "</div>"
      ],
      "text/plain": [
       "          acc    recall precision\n",
       "MLP  0.543096  0.543096  0.516676\n",
       "RF   0.609643  0.609643   0.59897"
      ]
     },
     "execution_count": 34,
     "metadata": {},
     "output_type": "execute_result"
    }
   ],
   "source": [
    "result_df_feat_selected = see_results(results_exp_03)\n",
    "result_df_feat_selected"
   ]
  },
  {
   "cell_type": "code",
   "execution_count": 35,
   "metadata": {},
   "outputs": [
    {
     "data": {
      "text/html": [
       "<div>\n",
       "<style scoped>\n",
       "    .dataframe tbody tr th:only-of-type {\n",
       "        vertical-align: middle;\n",
       "    }\n",
       "\n",
       "    .dataframe tbody tr th {\n",
       "        vertical-align: top;\n",
       "    }\n",
       "\n",
       "    .dataframe thead th {\n",
       "        text-align: right;\n",
       "    }\n",
       "</style>\n",
       "<table border=\"1\" class=\"dataframe\">\n",
       "  <thead>\n",
       "    <tr style=\"text-align: right;\">\n",
       "      <th></th>\n",
       "      <th>RF</th>\n",
       "      <th>MLP</th>\n",
       "    </tr>\n",
       "  </thead>\n",
       "  <tbody>\n",
       "    <tr>\n",
       "      <th>11 features</th>\n",
       "      <td>0.666574</td>\n",
       "      <td>0.570258</td>\n",
       "    </tr>\n",
       "    <tr>\n",
       "      <th>3 features</th>\n",
       "      <td>0.609643</td>\n",
       "      <td>0.543096</td>\n",
       "    </tr>\n",
       "  </tbody>\n",
       "</table>\n",
       "</div>"
      ],
      "text/plain": [
       "                   RF       MLP\n",
       "11 features  0.666574  0.570258\n",
       "3 features   0.609643  0.543096"
      ]
     },
     "execution_count": 35,
     "metadata": {},
     "output_type": "execute_result"
    }
   ],
   "source": [
    "results_comparison = pd.DataFrame([result_df_clf_all.loc['RF']['acc'], result_df_feat_selected.loc['RF']['acc']],\n",
    "                                    index=['11 features', '3 features'], columns=['RF'])\n",
    "\n",
    "results_comparison['MLP'] = [result_df_clf_all.loc['MLP']['acc'], result_df_feat_selected.loc['MLP']['acc']]\n",
    "results_comparison"
   ]
  },
  {
   "cell_type": "code",
   "execution_count": 36,
   "metadata": {},
   "outputs": [
    {
     "data": {
      "text/plain": [
       "<matplotlib.axes._subplots.AxesSubplot at 0x7f82360c0240>"
      ]
     },
     "execution_count": 36,
     "metadata": {},
     "output_type": "execute_result"
    },
    {
     "data": {
      "image/png": "[encoded data removed]",
      "text/plain": [
       "<Figure size 432x288 with 1 Axes>"
      ]
     },
     "metadata": {
      "needs_background": "light"
     },
     "output_type": "display_data"
    }
   ],
   "source": [
    "sns.lineplot(data=results_comparison)"
   ]
  },
  {
   "cell_type": "markdown",
   "metadata": {},
   "source": [
    "Removing these features does not to seem very good."
   ]
  },
  {
   "cell_type": "code",
   "execution_count": 37,
   "metadata": {},
   "outputs": [],
   "source": [
    "def print_confusion_matrix(confusion_matrix, class_names, figsize = (10,7), fontsize=20):\n",
    "    \"\"\"Prints a confusion matrix, as returned by sklearn.metrics.confusion_matrix, as a heatmap.\n",
    "    \n",
    "    Arguments\n",
    "    ---------\n",
    "    confusion_matrix: numpy.ndarray\n",
    "        The numpy.ndarray object returned from a call to sklearn.metrics.confusion_matrix. \n",
    "        Similarly constructed ndarrays can also be used.\n",
    "    class_names: list\n",
    "        An ordered list of class names, in the order they index the given confusion matrix.\n",
    "    figsize: tuple\n",
    "        A 2-long tuple, the first value determining the horizontal size of the ouputted figure,\n",
    "        the second determining the vertical size. Defaults to (10,7).\n",
    "    fontsize: int\n",
    "        Font size for axes labels. Defaults to 14.\n",
    "        \n",
    "    Returns\n",
    "    -------\n",
    "    matplotlib.figure.Figure\n",
    "        The resulting confusion matrix figure\n",
    "    \"\"\"\n",
    "    df_cm = pd.DataFrame(\n",
    "        confusion_matrix, index=class_names, columns=class_names, \n",
    "    )\n",
    "    fig = plt.figure(figsize=figsize)\n",
    "    try:\n",
    "        heatmap = sns.heatmap(df_cm, annot=True, fmt=\"d\")\n",
    "    except ValueError:\n",
    "        raise ValueError(\"Confusion matrix values must be integers.\")\n",
    "    heatmap.yaxis.set_ticklabels(heatmap.yaxis.get_ticklabels(), rotation=0, ha='right', fontsize=fontsize)\n",
    "    heatmap.xaxis.set_ticklabels(heatmap.xaxis.get_ticklabels(), rotation=45, ha='right', fontsize=fontsize)\n",
    "    plt.ylabel('True label')\n",
    "    plt.xlabel('Predicted label')\n",
    "    return fig"
   ]
  },
  {
   "cell_type": "code",
   "execution_count": 38,
   "metadata": {},
   "outputs": [
    {
     "data": {
      "text/plain": [
       "Text(0.5, 1.0, 'MLP confusion matrix')"
      ]
     },
     "execution_count": 38,
     "metadata": {},
     "output_type": "execute_result"
    },
    {
     "data": {
      "image/png": "[encoded data removed]",
      "text/plain": [
       "<Figure size 720x504 with 2 Axes>"
      ]
     },
     "metadata": {
      "needs_background": "light"
     },
     "output_type": "display_data"
    }
   ],
   "source": [
    "fig = print_confusion_matrix(results_exp_03['test']['MLP']['confMat'][9], class_names=np.array(['q01', 'q02', 'q03', 'q04', 'q05', 'q06']))\n",
    "plt.title('MLP confusion matrix')"
   ]
  },
  {
   "cell_type": "code",
   "execution_count": 39,
   "metadata": {},
   "outputs": [
    {
     "data": {
      "text/plain": [
       "Text(0.5, 1.0, 'RF confusion matrix')"
      ]
     },
     "execution_count": 39,
     "metadata": {},
     "output_type": "execute_result"
    },
    {
     "data": {
      "image/png": "[encoded data removed]",
      "text/plain": [
       "<Figure size 720x504 with 2 Axes>"
      ]
     },
     "metadata": {
      "needs_background": "light"
     },
     "output_type": "display_data"
    }
   ],
   "source": [
    "fig = print_confusion_matrix(results_exp_03['test']['RF']['confMat'][9], class_names=np.array(['q01', 'q02', 'q03', 'q04', 'q05', 'q06']))\n",
    "plt.title('RF confusion matrix')"
   ]
  },
  {
   "cell_type": "markdown",
   "metadata": {},
   "source": [
    "Interisting!! Most of the mistakes are from the low and higher qualities. Let's try something different: turn this problem into binary by grouping qualities below 6 as **bad** abore as **good** "
   ]
  },
  {
   "cell_type": "markdown",
   "metadata": {},
   "source": [
    "# Experiment 04:\n",
    "- Binary;"
   ]
  },
  {
   "cell_type": "code",
   "execution_count": 40,
   "metadata": {},
   "outputs": [],
   "source": [
    "labels[labels <= 2] = 0\n",
    "labels[labels > 2] = 1"
   ]
  },
  {
   "cell_type": "code",
   "execution_count": 41,
   "metadata": {},
   "outputs": [
    {
     "data": {
      "text/plain": [
       "array([0, 1])"
      ]
     },
     "execution_count": 41,
     "metadata": {},
     "output_type": "execute_result"
    }
   ],
   "source": [
    "np.unique(labels)"
   ]
  },
  {
   "cell_type": "code",
   "execution_count": 42,
   "metadata": {},
   "outputs": [],
   "source": [
    "# Definitions\n",
    "results_obj_name = 'results-03-clf-binary.pkl'\n",
    "results_folder = os.path.join('Results-analyses-3', '04-Binary')\n",
    "kfolds = 10\n",
    "n_classes = np.unique(labels).shape[0]\n",
    "\n",
    "# CLF definitions as  the same above in the Expr 01\n",
    "classifiers_feat_selected = {'MLP': mlp_clf, 'RF': random_forest_clf}"
   ]
  },
  {
   "cell_type": "code",
   "execution_count": 43,
   "metadata": {},
   "outputs": [
    {
     "name": "stdout",
     "output_type": "stream",
     "text": [
      "load\n"
     ]
    }
   ],
   "source": [
    "results_exp_04 = do_experiment(results_obj_name, results_folder, features=features_transformed.values, labels=labels.ravel(), \n",
    "                               classifiers=classifiers_feat_selected, n_classes=n_classes, action='load')"
   ]
  },
  {
   "cell_type": "code",
   "execution_count": 44,
   "metadata": {},
   "outputs": [
    {
     "data": {
      "text/html": [
       "<div>\n",
       "<style scoped>\n",
       "    .dataframe tbody tr th:only-of-type {\n",
       "        vertical-align: middle;\n",
       "    }\n",
       "\n",
       "    .dataframe tbody tr th {\n",
       "        vertical-align: top;\n",
       "    }\n",
       "\n",
       "    .dataframe thead th {\n",
       "        text-align: right;\n",
       "    }\n",
       "</style>\n",
       "<table border=\"1\" class=\"dataframe\">\n",
       "  <thead>\n",
       "    <tr style=\"text-align: right;\">\n",
       "      <th></th>\n",
       "      <th>acc</th>\n",
       "      <th>recall</th>\n",
       "      <th>precision</th>\n",
       "    </tr>\n",
       "  </thead>\n",
       "  <tbody>\n",
       "    <tr>\n",
       "      <th>MLP</th>\n",
       "      <td>0.780144</td>\n",
       "      <td>0.780144</td>\n",
       "      <td>0.777903</td>\n",
       "    </tr>\n",
       "    <tr>\n",
       "      <th>RF</th>\n",
       "      <td>0.810424</td>\n",
       "      <td>0.810424</td>\n",
       "      <td>0.8107</td>\n",
       "    </tr>\n",
       "  </tbody>\n",
       "</table>\n",
       "</div>"
      ],
      "text/plain": [
       "          acc    recall precision\n",
       "MLP  0.780144  0.780144  0.777903\n",
       "RF   0.810424  0.810424    0.8107"
      ]
     },
     "execution_count": 44,
     "metadata": {},
     "output_type": "execute_result"
    }
   ],
   "source": [
    "result_df_binary = see_results(results_exp_04)\n",
    "result_df_binary"
   ]
  },
  {
   "cell_type": "code",
   "execution_count": 45,
   "metadata": {},
   "outputs": [
    {
     "data": {
      "text/plain": [
       "Text(0.5, 1.0, 'RF confusion matrix')"
      ]
     },
     "execution_count": 45,
     "metadata": {},
     "output_type": "execute_result"
    },
    {
     "data": {
      "image/png": "[encoded data removed]",
      "text/plain": [
       "<Figure size 720x504 with 2 Axes>"
      ]
     },
     "metadata": {
      "needs_background": "light"
     },
     "output_type": "display_data"
    }
   ],
   "source": [
    "fig = print_confusion_matrix(results_exp_04['test']['RF']['confMat'][9], class_names=np.array(['bad', 'good']))\n",
    "plt.title('RF confusion matrix')"
   ]
  },
  {
   "cell_type": "markdown",
   "metadata": {},
   "source": [
    "# Hyperparameter tunning"
   ]
  },
  {
   "cell_type": "code",
   "execution_count": 46,
   "metadata": {},
   "outputs": [],
   "source": [
    "# MLP:\n",
    "mlp_clf = MLPClassifier(solver='adam', learning_rate='adaptive', max_iter=1300, learning_rate_init=5e-04, tol=1e-4)"
   ]
  },
  {
   "cell_type": "code",
   "execution_count": 47,
   "metadata": {},
   "outputs": [],
   "source": [
    "random_forest_clf = RandomForestClassifier()\n",
    "\n",
    "# Number of trees in random forest\n",
    "n_estimators = [int(x) for x in np.linspace(start = 200, stop = 2000, num = 10)]\n",
    "# Number of features to consider at every split\n",
    "max_features = ['auto', 'sqrt']\n",
    "# Maximum number of levels in tree\n",
    "max_depth = [int(x) for x in np.linspace(10, 110, num = 11)]\n",
    "max_depth.append(None)\n",
    "# Minimum number of samples required to split a node\n",
    "min_samples_split = [2, 5, 10]\n",
    "# Minimum number of samples required at each leaf node\n",
    "min_samples_leaf = [1, 2, 4]\n",
    "# Method of selecting samples for training each tree\n",
    "bootstrap = [True, False]\n",
    "\n",
    "# Create the random grid\n",
    "random_grid = {'RF': \n",
    "                   {'n_estimators': n_estimators,\n",
    "                   'max_features': max_features,\n",
    "                   'max_depth': max_depth,\n",
    "                   'min_samples_split': min_samples_split,\n",
    "                   'min_samples_leaf': min_samples_leaf,\n",
    "                   'bootstrap': bootstrap},\n",
    "               'MLP':\n",
    "                   {\"hidden_layer_sizes\": list(np.arange(2,1001))}\n",
    "              }\n",
    "\n",
    "classifiers = {'RF': random_forest_clf, 'MLP': mlp_clf}"
   ]
  },
  {
   "cell_type": "code",
   "execution_count": 48,
   "metadata": {},
   "outputs": [],
   "source": [
    "from sklearn.model_selection import RandomizedSearchCV\n",
    "\n",
    "random_search = dict((k,[]) for k in classifiers.keys())"
   ]
  },
  {
   "cell_type": "code",
   "execution_count": 49,
   "metadata": {},
   "outputs": [
    {
     "data": {
      "text/html": [
       "<div>\n",
       "<style scoped>\n",
       "    .dataframe tbody tr th:only-of-type {\n",
       "        vertical-align: middle;\n",
       "    }\n",
       "\n",
       "    .dataframe tbody tr th {\n",
       "        vertical-align: top;\n",
       "    }\n",
       "\n",
       "    .dataframe thead th {\n",
       "        text-align: right;\n",
       "    }\n",
       "</style>\n",
       "<table border=\"1\" class=\"dataframe\">\n",
       "  <thead>\n",
       "    <tr style=\"text-align: right;\">\n",
       "      <th></th>\n",
       "      <th>fixed acidity</th>\n",
       "      <th>volatile acidity</th>\n",
       "      <th>citric acid</th>\n",
       "      <th>residual sugar</th>\n",
       "      <th>chlorides</th>\n",
       "      <th>free sulfur dioxide</th>\n",
       "      <th>total sulfur dioxide</th>\n",
       "      <th>density</th>\n",
       "      <th>pH</th>\n",
       "      <th>sulphates</th>\n",
       "      <th>alcohol</th>\n",
       "    </tr>\n",
       "  </thead>\n",
       "  <tbody>\n",
       "    <tr>\n",
       "      <th>0</th>\n",
       "      <td>0.753317</td>\n",
       "      <td>1.794928</td>\n",
       "      <td>-1.511482</td>\n",
       "      <td>-0.701777</td>\n",
       "      <td>0.474572</td>\n",
       "      <td>-0.311825</td>\n",
       "      <td>-0.986257</td>\n",
       "      <td>-0.092347</td>\n",
       "      <td>0.440301</td>\n",
       "      <td>1.454997</td>\n",
       "      <td>0.347380</td>\n",
       "    </tr>\n",
       "    <tr>\n",
       "      <th>1</th>\n",
       "      <td>-1.168491</td>\n",
       "      <td>-1.453357</td>\n",
       "      <td>-0.336296</td>\n",
       "      <td>-0.869575</td>\n",
       "      <td>-0.258709</td>\n",
       "      <td>-0.536331</td>\n",
       "      <td>-0.279840</td>\n",
       "      <td>-0.092822</td>\n",
       "      <td>0.315747</td>\n",
       "      <td>-0.474754</td>\n",
       "      <td>-0.831347</td>\n",
       "    </tr>\n",
       "    <tr>\n",
       "      <th>2</th>\n",
       "      <td>-0.246023</td>\n",
       "      <td>-0.360476</td>\n",
       "      <td>-0.543682</td>\n",
       "      <td>-0.701777</td>\n",
       "      <td>-0.625349</td>\n",
       "      <td>1.035214</td>\n",
       "      <td>0.091029</td>\n",
       "      <td>-0.093351</td>\n",
       "      <td>-1.490295</td>\n",
       "      <td>-0.674383</td>\n",
       "      <td>2.283859</td>\n",
       "    </tr>\n",
       "    <tr>\n",
       "      <th>3</th>\n",
       "      <td>-1.091618</td>\n",
       "      <td>0.125249</td>\n",
       "      <td>0.424119</td>\n",
       "      <td>-0.953474</td>\n",
       "      <td>-0.540740</td>\n",
       "      <td>-1.546611</td>\n",
       "      <td>-0.721351</td>\n",
       "      <td>-0.093141</td>\n",
       "      <td>0.378024</td>\n",
       "      <td>-1.273271</td>\n",
       "      <td>0.768353</td>\n",
       "    </tr>\n",
       "    <tr>\n",
       "      <th>4</th>\n",
       "      <td>0.138338</td>\n",
       "      <td>-0.846201</td>\n",
       "      <td>0.285862</td>\n",
       "      <td>-0.890550</td>\n",
       "      <td>-0.512537</td>\n",
       "      <td>0.754581</td>\n",
       "      <td>-0.085575</td>\n",
       "      <td>-0.092849</td>\n",
       "      <td>0.876242</td>\n",
       "      <td>-1.273271</td>\n",
       "      <td>-0.494568</td>\n",
       "    </tr>\n",
       "  </tbody>\n",
       "</table>\n",
       "</div>"
      ],
      "text/plain": [
       "   fixed acidity  volatile acidity  citric acid  residual sugar  chlorides  \\\n",
       "0       0.753317          1.794928    -1.511482       -0.701777   0.474572   \n",
       "1      -1.168491         -1.453357    -0.336296       -0.869575  -0.258709   \n",
       "2      -0.246023         -0.360476    -0.543682       -0.701777  -0.625349   \n",
       "3      -1.091618          0.125249     0.424119       -0.953474  -0.540740   \n",
       "4       0.138338         -0.846201     0.285862       -0.890550  -0.512537   \n",
       "\n",
       "   free sulfur dioxide  total sulfur dioxide   density        pH  sulphates  \\\n",
       "0            -0.311825             -0.986257 -0.092347  0.440301   1.454997   \n",
       "1            -0.536331             -0.279840 -0.092822  0.315747  -0.474754   \n",
       "2             1.035214              0.091029 -0.093351 -1.490295  -0.674383   \n",
       "3            -1.546611             -0.721351 -0.093141  0.378024  -1.273271   \n",
       "4             0.754581             -0.085575 -0.092849  0.876242  -1.273271   \n",
       "\n",
       "    alcohol  \n",
       "0  0.347380  \n",
       "1 -0.831347  \n",
       "2  2.283859  \n",
       "3  0.768353  \n",
       "4 -0.494568  "
      ]
     },
     "execution_count": 49,
     "metadata": {},
     "output_type": "execute_result"
    }
   ],
   "source": [
    "features_transformed = pipeline.fit_transform(features)\n",
    "features_transformed.head()"
   ]
  },
  {
   "cell_type": "code",
   "execution_count": 50,
   "metadata": {},
   "outputs": [
    {
     "data": {
      "text/plain": [
       "(5813, 11)"
      ]
     },
     "execution_count": 50,
     "metadata": {},
     "output_type": "execute_result"
    }
   ],
   "source": [
    "features_transformed.shape"
   ]
  },
  {
   "cell_type": "code",
   "execution_count": 51,
   "metadata": {},
   "outputs": [
    {
     "data": {
      "text/plain": [
       "array([3, 2, 4, ..., 4, 3, 3])"
      ]
     },
     "execution_count": 51,
     "metadata": {},
     "output_type": "execute_result"
    }
   ],
   "source": [
    "labels = GetLables().fit_transform(data)\n",
    "labels"
   ]
  },
  {
   "cell_type": "code",
   "execution_count": 52,
   "metadata": {},
   "outputs": [
    {
     "data": {
      "text/plain": [
       "(5847,)"
      ]
     },
     "execution_count": 52,
     "metadata": {},
     "output_type": "execute_result"
    }
   ],
   "source": [
    "labels.shape"
   ]
  },
  {
   "cell_type": "code",
   "execution_count": 53,
   "metadata": {},
   "outputs": [
    {
     "data": {
      "text/plain": [
       "(5813,)"
      ]
     },
     "execution_count": 53,
     "metadata": {},
     "output_type": "execute_result"
    }
   ],
   "source": [
    "labels = labels[features_transformed.index.values]\n",
    "labels.shape"
   ]
  },
  {
   "cell_type": "code",
   "execution_count": 54,
   "metadata": {},
   "outputs": [],
   "source": [
    "results_obj_name = 'results-04-mlp-random-search.pkl'\n",
    "results_folder = os.path.join('Results-analyses-3', '05-Hyperparameter_tuning')\n",
    "\n",
    "action = 'load'\n",
    "\n",
    "if action == 'train':\n",
    "    for clf in random_grid.keys():\n",
    "        random_search[clf] = RandomizedSearchCV(classifiers[clf], random_grid[clf], cv=10, n_iter=20, verbose=5, scoring='accuracy')\n",
    "        random_search[clf].fit(features_transformed.values, y=labels.ravel())\n",
    "        joblib.dump(random_search, os.path.join(results_folder, results_obj_name))\n",
    "else:\n",
    "    random_search = joblib.load(os.path.join(results_folder, results_obj_name))"
   ]
  },
  {
   "cell_type": "code",
   "execution_count": 55,
   "metadata": {},
   "outputs": [
    {
     "data": {
      "text/plain": [
       "0.689661104421125"
      ]
     },
     "execution_count": 55,
     "metadata": {},
     "output_type": "execute_result"
    }
   ],
   "source": [
    "random_search['RF'].best_score_"
   ]
  },
  {
   "cell_type": "markdown",
   "metadata": {},
   "source": [
    "# Train the random forest in the chunk of 90% of the dataset."
   ]
  },
  {
   "cell_type": "code",
   "execution_count": 56,
   "metadata": {},
   "outputs": [
    {
     "data": {
      "text/plain": [
       "array([0, 1, 2, 3, 4, 5, 6])"
      ]
     },
     "execution_count": 56,
     "metadata": {},
     "output_type": "execute_result"
    }
   ],
   "source": [
    "labels = GetLables().fit_transform(data)\n",
    "np.unique(labels)"
   ]
  },
  {
   "cell_type": "code",
   "execution_count": 57,
   "metadata": {},
   "outputs": [
    {
     "data": {
      "text/plain": [
       "array([0, 1])"
      ]
     },
     "execution_count": 57,
     "metadata": {},
     "output_type": "execute_result"
    }
   ],
   "source": [
    "labels[labels <= 2] = 0\n",
    "labels[labels > 2] = 1\n",
    "np.unique(labels)"
   ]
  },
  {
   "cell_type": "code",
   "execution_count": 58,
   "metadata": {},
   "outputs": [],
   "source": [
    "X = features_transformed.values\n",
    "y = labels[features_transformed.index]"
   ]
  },
  {
   "cell_type": "code",
   "execution_count": 59,
   "metadata": {},
   "outputs": [
    {
     "data": {
      "text/plain": [
       "RandomForestClassifier(bootstrap=False, class_weight=None, criterion='gini',\n",
       "            max_depth=40, max_features='sqrt', max_leaf_nodes=None,\n",
       "            min_impurity_decrease=0.0, min_impurity_split=None,\n",
       "            min_samples_leaf=2, min_samples_split=2,\n",
       "            min_weight_fraction_leaf=0.0, n_estimators=1000, n_jobs=None,\n",
       "            oob_score=False, random_state=93849823, verbose=0,\n",
       "            warm_start=False)"
      ]
     },
     "execution_count": 59,
     "metadata": {},
     "output_type": "execute_result"
    }
   ],
   "source": [
    "random_forest_clf = random_search['RF'].best_estimator_\n",
    "random_forest_clf.set_params(random_state=SEED)"
   ]
  },
  {
   "cell_type": "code",
   "execution_count": 60,
   "metadata": {},
   "outputs": [
    {
     "data": {
      "text/plain": [
       "RandomForestClassifier(bootstrap=False, class_weight=None, criterion='gini',\n",
       "            max_depth=40, max_features='sqrt', max_leaf_nodes=None,\n",
       "            min_impurity_decrease=0.0, min_impurity_split=None,\n",
       "            min_samples_leaf=2, min_samples_split=2,\n",
       "            min_weight_fraction_leaf=0.0, n_estimators=1000, n_jobs=None,\n",
       "            oob_score=False, random_state=93849823, verbose=0,\n",
       "            warm_start=False)"
      ]
     },
     "execution_count": 60,
     "metadata": {},
     "output_type": "execute_result"
    }
   ],
   "source": [
    "random_forest_clf.fit(X, y)"
   ]
  },
  {
   "cell_type": "markdown",
   "metadata": {},
   "source": [
    "Save the pipeline"
   ]
  },
  {
   "cell_type": "code",
   "execution_count": 76,
   "metadata": {},
   "outputs": [
    {
     "data": {
      "text/plain": [
       "[('cleaner', <transforms.DataCleaning at 0x7f823d1c4eb8>),\n",
       " ('remover', <transforms.RemoveFeatures at 0x7f823d1c4cf8>),\n",
       " ('scaler', <transforms.FeatureScaling at 0x7f823d1c4da0>),\n",
       " ('droper', <transforms.DropNaN at 0x7f823d1183c8>)]"
      ]
     },
     "execution_count": 76,
     "metadata": {},
     "output_type": "execute_result"
    }
   ],
   "source": [
    "pipeline.steps"
   ]
  },
  {
   "cell_type": "code",
   "execution_count": 83,
   "metadata": {},
   "outputs": [
    {
     "data": {
      "text/plain": [
       "['../models/pipeline.pkl']"
      ]
     },
     "execution_count": 83,
     "metadata": {},
     "output_type": "execute_result"
    }
   ],
   "source": [
    "joblib.dump(pipeline, os.path.join(MODELS_FOLDER, 'pipeline.pkl'))"
   ]
  },
  {
   "cell_type": "markdown",
   "metadata": {},
   "source": [
    "# Test the model over the chunk of 10%"
   ]
  },
  {
   "cell_type": "code",
   "execution_count": null,
   "metadata": {},
   "outputs": [],
   "source": [
    "data_10 = pd.read_csv(os.path.join(DATA_FOLDER_RAW, 'winequality_10.csv'))\n",
    "data_10.head()"
   ]
  },
  {
   "cell_type": "code",
   "execution_count": null,
   "metadata": {},
   "outputs": [],
   "source": [
    "labels_10 = GetLables().fit_transform(data_10)\n",
    "labels_10[labels_10 <= 2] = 0\n",
    "labels_10[labels_10 > 2] = 1\n",
    "np.unique(labels)"
   ]
  },
  {
   "cell_type": "code",
   "execution_count": null,
   "metadata": {},
   "outputs": [],
   "source": [
    "features_10 = data_10.drop('quality', axis=1)\n",
    "features_10.head()"
   ]
  },
  {
   "cell_type": "code",
   "execution_count": null,
   "metadata": {},
   "outputs": [],
   "source": [
    "features_10_transformed = pipeline.transform(features_10)\n",
    "features_10_transformed.head()"
   ]
  },
  {
   "cell_type": "code",
   "execution_count": null,
   "metadata": {},
   "outputs": [],
   "source": [
    "y_hat = random_forest_clf.predict(features_10_transformed)\n",
    "y_hat.shape"
   ]
  },
  {
   "cell_type": "code",
   "execution_count": null,
   "metadata": {},
   "outputs": [],
   "source": [
    "y_10 = labels_10[features_10_transformed.index]\n",
    "y_10.shape"
   ]
  },
  {
   "cell_type": "code",
   "execution_count": null,
   "metadata": {},
   "outputs": [],
   "source": [
    "from sklearn.metrics import classification_report, accuracy_score, confusion_matrix"
   ]
  },
  {
   "cell_type": "code",
   "execution_count": null,
   "metadata": {},
   "outputs": [],
   "source": [
    "print(classification_report(y_10, y_hat))"
   ]
  },
  {
   "cell_type": "code",
   "execution_count": null,
   "metadata": {},
   "outputs": [],
   "source": [
    "print(accuracy_score(y_10, y_hat))"
   ]
  },
  {
   "cell_type": "code",
   "execution_count": null,
   "metadata": {},
   "outputs": [],
   "source": [
    "print(confusion_matrix(y_10, y_hat))"
   ]
  },
  {
   "cell_type": "markdown",
   "metadata": {},
   "source": [
    "Percentage confusion matrix"
   ]
  },
  {
   "cell_type": "code",
   "execution_count": null,
   "metadata": {},
   "outputs": [],
   "source": [
    "print(experiment.percentage_confMat(confusion_matrix(y_10, y_hat)))"
   ]
  },
  {
   "cell_type": "markdown",
   "metadata": {},
   "source": [
    "### Save the model"
   ]
  },
  {
   "cell_type": "code",
   "execution_count": null,
   "metadata": {},
   "outputs": [],
   "source": [
    "joblib.dump(random_forest_clf, os.path.join(MODELS_FOLDER, 'random_forest_1000est_2leaf_depth40.pkl'))"
   ]
  },
  {
   "cell_type": "code",
   "execution_count": null,
   "metadata": {},
   "outputs": [],
   "source": [
    "features.loc[0].to_json('aeae.json')"
   ]
  },
  {
   "cell_type": "code",
   "execution_count": null,
   "metadata": {},
   "outputs": [],
   "source": []
  }
 ],
 "metadata": {
  "kernelspec": {
   "display_name": "Python 3",
   "language": "python",
   "name": "python3"
  },
  "language_info": {
   "codemirror_mode": {
    "name": "ipython",
    "version": 3
   },
   "file_extension": ".py",
   "mimetype": "text/x-python",
   "name": "python",
   "nbconvert_exporter": "python",
   "pygments_lexer": "ipython3",
   "version": "3.7.1"
  }
 },
 "nbformat": 4,
 "nbformat_minor": 2
}
